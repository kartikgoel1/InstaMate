{
 "cells": [
  {
   "cell_type": "markdown",
   "id": "aaf5302f",
   "metadata": {},
   "source": [
    "# 1"
   ]
  },
  {
   "cell_type": "code",
   "execution_count": 1,
   "id": "2019ab58",
   "metadata": {},
   "outputs": [],
   "source": [
    "from selenium.webdriver.chrome.service import Service  # This line imports the Service class from the selenium.webdriver.chrome.service module.\n",
    "from selenium import webdriver  # This line imports the webdriver module from the Selenium package\n",
    "from selenium.webdriver.support.ui import WebDriverWait\n",
    "from selenium.webdriver.support import expected_conditions as EC\n",
    "import time\n",
    "service = Service(executable_path = 'C:/Users/goelk/OneDrive/Documents/chromedriver') # This line creates a Service object and specifies the path to the ChromeDriver executable file using the executable_path argument.\n",
    "driver = webdriver.Chrome(service=service) # This line creates a WebDriver object for the Chrome browser, using the webdriver.Chrome() method. The service argument specifies the Service object that will be used to control the ChromeDriver process.\n",
    "driver.get('https://www.instagram.com/')"
   ]
  },
  {
   "cell_type": "code",
   "execution_count": 2,
   "id": "a0c57f20",
   "metadata": {},
   "outputs": [],
   "source": [
    "from selenium.webdriver.common.by import By\n",
    "username_obj = WebDriverWait(driver, 10).until(EC.presence_of_element_located((By.NAME, 'username')))\n",
    "username_obj.send_keys('SAMPLE USERNAME')"
   ]
  },
  {
   "cell_type": "code",
   "execution_count": 3,
   "id": "cac16a93",
   "metadata": {},
   "outputs": [],
   "source": [
    "psw_obj = WebDriverWait(driver, 10).until(EC.presence_of_element_located((By.NAME, 'password')))\n",
    "psw_obj.send_keys('SAMPLE PASSWORD')"
   ]
  },
  {
   "cell_type": "code",
   "execution_count": 4,
   "id": "452a8386",
   "metadata": {},
   "outputs": [],
   "source": [
    "button = WebDriverWait(driver, 10).until(EC.presence_of_all_elements_located((By.CLASS_NAME, \"_aj1-\")))\n",
    "button[1].submit()"
   ]
  },
  {
   "cell_type": "markdown",
   "id": "10688605",
   "metadata": {},
   "source": [
    "# 2"
   ]
  },
  {
   "cell_type": "code",
   "execution_count": 5,
   "id": "44d68420",
   "metadata": {},
   "outputs": [],
   "source": [
    "search_btn = WebDriverWait(driver, 10).until(EC.element_to_be_clickable((By.XPATH, '//*[@aria-label = \"Search\"]')))\n",
    "search_btn.click()"
   ]
  },
  {
   "cell_type": "code",
   "execution_count": 6,
   "id": "deee2925",
   "metadata": {},
   "outputs": [],
   "source": [
    "search_bar = WebDriverWait(driver, 10).until(EC.presence_of_element_located((By.XPATH, '//*[@aria-label = \"Search input\"]')))\n",
    "search_bar.send_keys('food')"
   ]
  },
  {
   "cell_type": "code",
   "execution_count": 7,
   "id": "0eff34e1",
   "metadata": {},
   "outputs": [
    {
     "name": "stdout",
     "output_type": "stream",
     "text": [
      "indorefoodexplorer\n",
      "food.darzee\n",
      "bhopalfoodwalks\n",
      "foodie_incarnate\n",
      "foofaji\n",
      "food_vlogs_and_recipes\n",
      "food\n",
      "dietwithdieties\n",
      "sovas_food_diaries\n",
      "that.foodie.shinigami\n",
      "foodlty\n",
      "yourfoodlab\n",
      "lucknowi.safarkhana\n",
      "portugal.explores\n",
      "streetfoodbhopal\n",
      "joey_can_share_food\n",
      "thehungryclones\n",
      "travelbitess\n",
      "better_wid_food_\n",
      "bhopalfoodlovers\n",
      "euphoriabhopal\n",
      "satshyaa\n",
      "foodforfoodies6\n",
      "amsterdam.explores\n",
      "this.is.bhopal\n",
      "umersaleem22_\n",
      "delhi.foodgasm\n",
      "godesi_foods\n",
      "khaata_rahe_mera_dil\n",
      "arorarahat\n",
      "sharma_and_vishnufastfood\n",
      "laeats\n",
      "bbuzzz08\n",
      "food_shood2023\n",
      "kawatra_foodie\n",
      "_foodie.af_\n",
      "pandareviewz\n",
      "foodie_from_karimganj\n",
      "diary_ofcee\n",
      "food_eternity\n",
      "food_trap23\n",
      "food52\n",
      "coacheddarzee\n",
      "_food_fun_travel_\n",
      "cafefoodicians\n",
      "the_ultimate_foodies_bhopal\n",
      "food_n_fun_0\n",
      "thevurgerco\n"
     ]
    }
   ],
   "source": [
    "time.sleep(10)\n",
    "from bs4 import BeautifulSoup\n",
    "bs_obj = BeautifulSoup(driver.page_source, 'html.parser')\n",
    "list_of_handles = bs_obj.find_all(class_ = \"x193iq5w xeuugli x1fj9vlw x13faqbe x1vvkbs xt0psk2 x1i0vuye xvs91rp x1s688f x5n08af x10wh9bi x1wdrske x8viiok x18hxmgj\")\n",
    "for handle in list_of_handles:\n",
    "\tname = handle.string\n",
    "\tif name == None:\n",
    "\t\tcontinue\n",
    "\tprint(name)"
   ]
  },
  {
   "cell_type": "code",
   "execution_count": 8,
   "id": "af8ccf01",
   "metadata": {},
   "outputs": [],
   "source": [
    "clear_btn = WebDriverWait(driver, 10).until(EC.element_to_be_clickable((By.XPATH, '//*[@aria-label = \"Clear the search box\"]')))\n",
    "clear_btn.click()\n"
   ]
  },
  {
   "cell_type": "markdown",
   "id": "7c1f0d2c",
   "metadata": {},
   "source": [
    "# 3"
   ]
  },
  {
   "cell_type": "code",
   "execution_count": 9,
   "id": "a4444954",
   "metadata": {},
   "outputs": [],
   "source": [
    "search_bar = WebDriverWait(driver, 10).until(EC.presence_of_element_located((By.XPATH, '//*[@aria-label = \"Search input\"]')))\n",
    "search_bar.send_keys('So Delhi')\n"
   ]
  },
  {
   "cell_type": "code",
   "execution_count": 10,
   "id": "fb857091",
   "metadata": {},
   "outputs": [],
   "source": [
    "profile = WebDriverWait(driver, 10).until(EC.element_to_be_clickable((By.XPATH, '//div[starts-with(@class, \"x9f619\")]//span[starts-with(@class, \"x193iq5w\")]')))\n",
    "profile.click()"
   ]
  },
  {
   "cell_type": "markdown",
   "id": "56c2e68c",
   "metadata": {},
   "source": [
    "# 4"
   ]
  },
  {
   "cell_type": "code",
   "execution_count": 11,
   "id": "a41e729a",
   "metadata": {},
   "outputs": [
    {
     "name": "stdout",
     "output_type": "stream",
     "text": [
      "follow button clicked\n"
     ]
    }
   ],
   "source": [
    "follow_btn = WebDriverWait(driver, 10).until(EC.element_to_be_clickable((By.XPATH, '//button[starts-with(@class, \"_acan\")]')))\n",
    "follow_btn.click()\n",
    "print(\"follow button clicked\")"
   ]
  },
  {
   "cell_type": "code",
   "execution_count": null,
   "id": "ccb6efb6",
   "metadata": {},
   "outputs": [],
   "source": [
    "unfollow = WebDriverWait(driver, 10).until(EC.element_to_be_clickable((By.XPATH, \"//span[text() = 'Unfollow']\")))\n",
    "unfollow.click()\n",
    "print('Unfollowed')"
   ]
  },
  {
   "cell_type": "markdown",
   "id": "9ad51b9f",
   "metadata": {},
   "source": [
    "# 5"
   ]
  },
  {
   "cell_type": "code",
   "execution_count": null,
   "id": "0620ff57",
   "metadata": {},
   "outputs": [],
   "source": [
    "# Search for user\n",
    "search_btn = WebDriverWait(driver, 10).until(EC.element_to_be_clickable((By.XPATH,'//*[@aria-label = \"Search\"]')))\n",
    "search_btn.click()\n",
    "search_bar = WebDriverWait(driver, 10).until(EC.element_to_be_clickable((By.XPATH,'//*[@aria-label = \"Search input\"]')))\n",
    "search_bar.send_keys('dilsefoodie')\n"
   ]
  },
  {
   "cell_type": "code",
   "execution_count": null,
   "id": "d0bb4914",
   "metadata": {},
   "outputs": [],
   "source": [
    "# Go to user profile\n",
    "dil_se_foodie = WebDriverWait(driver, 10).until(EC.element_to_be_clickable((By.XPATH, \"//span[text() = 'dilsefoodie']\")))\n",
    "dil_se_foodie.click()"
   ]
  },
  {
   "cell_type": "code",
   "execution_count": null,
   "id": "3665435c",
   "metadata": {},
   "outputs": [],
   "source": [
    "# Scroll down to the end of the page\n",
    "height = driver.execute_script('return document.body.scrollHeight')\n",
    "driver.execute_script('window.scrollTo(0, arguments[0])', height)"
   ]
  },
  {
   "cell_type": "code",
   "execution_count": null,
   "id": "aa2442b0",
   "metadata": {},
   "outputs": [],
   "source": [
    "# Like 30 posts\n",
    "count = 0\n",
    "a = WebDriverWait(driver, 10).until(EC.presence_of_all_elements_located((By.XPATH, \"//div[starts-with(@class, '_aabd')]/a\")))\n",
    "for i in a:\n",
    "    count += 1\n",
    "    i.click()\n",
    "    like_btn = WebDriverWait(driver, 10).until(EC.element_to_be_clickable((By.XPATH, \"//span[@class = '_aamw']/button[@class = '_abl-']\")))\n",
    "    like_btn.click()\n",
    "    close_btn = WebDriverWait(driver, 10).until(EC.element_to_be_clickable((By.XPATH, \"//div[starts-with(@class, 'x10l6tqk ')]/div[starts-with(@class, 'x1i10hfl')]\")))\n",
    "    close_btn.click()\n",
    "    if count == 30:\n",
    "        break\n",
    "print('Liked 30 posts')"
   ]
  },
  {
   "cell_type": "code",
   "execution_count": null,
   "id": "0fbdc9f6",
   "metadata": {},
   "outputs": [],
   "source": [
    "# Unlike 30 posts\n",
    "count = 0\n",
    "a = WebDriverWait(driver, 10).until(EC.presence_of_all_elements_located((By.XPATH, \"//div[starts-with(@class, '_aabd')]/a\")))\n",
    "for i in a:\n",
    "    count += 1\n",
    "    i.click()\n",
    "    unlike_btn = WebDriverWait(driver, 10).until(EC.element_to_be_clickable((By.XPATH, \"//span[@class = '_aamw']/button[@class = '_abl-']\")))\n",
    "    unlike_btn.click()\n",
    "    close_btn = WebDriverWait(driver, 10).until(EC.element_to_be_clickable((By.XPATH, \"//div[starts-with(@class, 'x10l6tqk ')]/div[starts-with(@class, 'x1i10hfl')]\")))\n",
    "    close_btn.click()\n",
    "    if count == 30:\n",
    "        break\n",
    "print('Unliked 30 posts')"
   ]
  },
  {
   "cell_type": "markdown",
   "id": "b0efab0e",
   "metadata": {},
   "source": [
    "# 6"
   ]
  },
  {
   "cell_type": "code",
   "execution_count": null,
   "id": "9c244b84",
   "metadata": {},
   "outputs": [],
   "source": [
    "# Search for user\n",
    "search_btn = WebDriverWait(driver, 10).until(EC.element_to_be_clickable((By.XPATH,'//*[@aria-label = \"Search\"]')))\n",
    "search_btn.click()\n",
    "search_bar = WebDriverWait(driver, 10).until(EC.element_to_be_clickable((By.XPATH,'//*[@aria-label = \"Search input\"]')))\n",
    "search_bar.send_keys('foodtalkindia')\n"
   ]
  },
  {
   "cell_type": "code",
   "execution_count": null,
   "id": "c62cbdfc",
   "metadata": {},
   "outputs": [],
   "source": [
    "food_talk_india = WebDriverWait(driver, 10).until(EC.presence_of_element_located((By.XPATH, \"//span[text() = 'foodtalkindia']\")))\n",
    "food_talk_india.click()"
   ]
  },
  {
   "cell_type": "code",
   "execution_count": null,
   "id": "07879481",
   "metadata": {},
   "outputs": [],
   "source": [
    "followers = WebDriverWait(driver, 10).until(EC.presence_of_element_located((By.XPATH, \"//li[starts-with(@class, 'xl565be')]/a[starts-with(@class, 'x1i10hfl ')]\")))\n",
    "followers.click()"
   ]
  },
  {
   "cell_type": "code",
   "execution_count": null,
   "id": "1961c1ef",
   "metadata": {},
   "outputs": [],
   "source": [
    "# Extracting followers Only 50 can be extracted due to Instagram policy\n",
    "time.sleep(10)\n",
    "from bs4 import BeautifulSoup\n",
    "bs_obj = BeautifulSoup(driver.page_source, 'html.parser')\n",
    "#height = driver.execute_script('return document.body.scrollHeight')\n",
    "#driver.execute_script('window.scrollTo(0, arguments[0])', height)\n",
    "index = 0\n",
    "li = bs_obj.find_all(class_ = \"x9f619 xjbqb8w x1rg5ohu x168nmei x13lgxp2 x5pf9jr xo71vjh x1n2onr6 x1plvlek xryxfnj x1c4vz4f x2lah0s x1q0g3np xqjyukv x6s0dn4 x1oa3qoh x1nhvcw1\")\n",
    "for handle in li:\n",
    "    index += 1\n",
    "    print(index, handle.text)"
   ]
  },
  {
   "cell_type": "code",
   "execution_count": null,
   "id": "5f725eae",
   "metadata": {},
   "outputs": [],
   "source": [
    "time.sleep(10)\n",
    "search_btn = WebDriverWait(driver, 10).until(EC.presence_of_element_located((By.XPATH, '//*[@aria-label = \"Search\"]')))\n",
    "search_btn.click()\n",
    "search_bar = WebDriverWait(driver, 10).until(EC.presence_of_element_located((By.XPATH, '//*[@aria-label = \"Search input\"]')))\n",
    "search_bar.send_keys('So Delhi')"
   ]
  },
  {
   "cell_type": "code",
   "execution_count": null,
   "id": "96fb65d8",
   "metadata": {},
   "outputs": [],
   "source": [
    "profile = WebDriverWait(driver, 10).until(EC.presence_of_element_located((By.XPATH, '//div[starts-with(@class, \"x9f619\")]//span[starts-with(@class, \"x193iq5w\")]')))  # searching for So Delhi profile\n",
    "profile.click()"
   ]
  },
  {
   "cell_type": "code",
   "execution_count": null,
   "id": "d28ed6d9",
   "metadata": {},
   "outputs": [],
   "source": [
    "followers = WebDriverWait(driver, 10).until(EC.presence_of_element_located((By.XPATH, \"//li[starts-with(@class, 'xl565be')]/a[starts-with(@class, 'x1i10hfl ')]\")))\n",
    "followers.click()"
   ]
  },
  {
   "cell_type": "code",
   "execution_count": null,
   "id": "8d076e93",
   "metadata": {},
   "outputs": [],
   "source": [
    "from bs4 import BeautifulSoup\n",
    "import time\n",
    "\n",
    "# Wait for the followers list to load\n",
    "time.sleep(5)\n",
    "\n",
    "# Parse the HTML source with BeautifulSoup\n",
    "bs_obj = BeautifulSoup(driver.page_source, 'html.parser')\n",
    "\n",
    "# Scroll to the bottom of the page to load all followers\n",
    "height = driver.execute_script('return document.body.scrollHeight')\n",
    "driver.execute_script('window.scrollTo(0, arguments[0])', height)\n",
    "\n",
    "# Extract the followers\n",
    "index = 0\n",
    "li = bs_obj.find_all(class_ = \"x9f619 xjbqb8w x1rg5ohu x168nmei x13lgxp2 x5pf9jr xo71vjh x1n2onr6 x1plvlek xryxfnj x1c4vz4f x2lah0s x1q0g3np xqjyukv x6s0dn4 x1oa3qoh x1nhvcw1\")\n",
    "for handle in li:\n",
    "    index += 1\n",
    "    print(index, handle.text)\n",
    "    if index == 500:\n",
    "        break\n"
   ]
  },
  {
   "cell_type": "code",
   "execution_count": null,
   "id": "a86f379d",
   "metadata": {},
   "outputs": [],
   "source": [
    "time.sleep(10)\n",
    "# Close the followers modal\n",
    "close_btn = WebDriverWait(driver, 5).until(EC.presence_of_element_located((By.XPATH, \"//div[starts-with(@class, '_ac7b ')]/div[starts-with(@class, 'x9f619')]/button\")))\n",
    "close_btn.click()"
   ]
  },
  {
   "cell_type": "markdown",
   "id": "eafb27ca",
   "metadata": {},
   "source": [
    "# 7"
   ]
  },
  {
   "cell_type": "code",
   "execution_count": null,
   "id": "025b1c00",
   "metadata": {},
   "outputs": [],
   "source": [
    "# Search for 'coding.ninjas'\n",
    "search_btn = WebDriverWait(driver, 5).until(EC.presence_of_element_located((By.XPATH, '//*[@aria-label = \"Search\"]')))\n",
    "search_btn.click()\n",
    "search_bar = WebDriverWait(driver, 5).until(EC.presence_of_element_located((By.XPATH, '//*[@aria-label = \"Search input\"]')))\n",
    "search_bar.send_keys('coding.ninjas')"
   ]
  },
  {
   "cell_type": "code",
   "execution_count": null,
   "id": "da14d12d",
   "metadata": {},
   "outputs": [],
   "source": [
    "# Click on the profile\n",
    "profile = WebDriverWait(driver, 5).until(EC.presence_of_element_located((By.XPATH, '//div[starts-with(@class, \"x9f619\")]//span[starts-with(@class, \"x193iq5w\")]')))\n",
    "profile.click()"
   ]
  },
  {
   "cell_type": "code",
   "execution_count": null,
   "id": "9303e9e9",
   "metadata": {},
   "outputs": [],
   "source": [
    "# Click on the story\n",
    "story_button = WebDriverWait(driver, 5).until(EC.presence_of_element_located((By.XPATH, \"//div[starts-with(@class, '_aarf ')]\")))\n",
    "story_button.click()\n",
    "print('story seen')"
   ]
  },
  {
   "cell_type": "code",
   "execution_count": null,
   "id": "c62e0475",
   "metadata": {},
   "outputs": [],
   "source": []
  }
 ],
 "metadata": {
  "kernelspec": {
   "display_name": "Python 3 (ipykernel)",
   "language": "python",
   "name": "python3"
  },
  "language_info": {
   "codemirror_mode": {
    "name": "ipython",
    "version": 3
   },
   "file_extension": ".py",
   "mimetype": "text/x-python",
   "name": "python",
   "nbconvert_exporter": "python",
   "pygments_lexer": "ipython3",
   "version": "3.9.13"
  }
 },
 "nbformat": 4,
 "nbformat_minor": 5
}
